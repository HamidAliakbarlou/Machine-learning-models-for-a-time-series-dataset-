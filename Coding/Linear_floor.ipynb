{
  "cells": [
    {
      "cell_type": "code",
      "execution_count": null,
      "id": "3e3ece4c",
      "metadata": {
        "id": "3e3ece4c",
        "colab": {
          "base_uri": "https://localhost:8080/"
        },
        "outputId": "dae40e95-e8ba-405f-f652-8612dbaa4fad"
      },
      "outputs": [
        {
          "output_type": "stream",
          "name": "stderr",
          "text": [
            "/usr/local/lib/python3.7/dist-packages/statsmodels/tools/_testing.py:19: FutureWarning: pandas.util.testing is deprecated. Use the functions in the public API at pandas.testing instead.\n",
            "  import pandas.util.testing as tm\n"
          ]
        }
      ],
      "source": [
        "import pandas as pd\n",
        "import numpy as np\n",
        "import tensorflow as tf\n",
        "import matplotlib.pyplot as plt\n",
        "import seaborn as sns\n",
        "from turtle import color\n",
        "from sklearn.metrics import mean_squared_error\n",
        "from math import sqrt\n",
        "from sklearn.metrics import r2_score\n",
        "from sklearn.metrics import mean_absolute_error as mae\n",
        "from sklearn.linear_model import LinearRegression\n",
        "import statsmodels.api as sm"
      ]
    },
    {
      "cell_type": "code",
      "execution_count": null,
      "id": "c421646c",
      "metadata": {
        "id": "c421646c"
      },
      "outputs": [],
      "source": [
        "time='60min' #time step for the dataset\n",
        "Office_hour_start=8 #this means 8 AM which office statrs working\n",
        "Ofice_hour_end=17 #this means 5 PM which office hour ends"
      ]
    },
    {
      "cell_type": "code",
      "execution_count": null,
      "id": "ec363da2",
      "metadata": {
        "id": "ec363da2"
      },
      "outputs": [],
      "source": [
        "#############################Reading the original dataset and the outdoor data########################\n",
        "data_original=pd.read_csv(\"2019Floor6.csv\")\n",
        "outdoo_weather = pd.read_csv(\"outdoor_weather.csv\")\n",
        "#The number of rows in the outdoo_wreather set should become equal to that of main original data\n",
        "#Note: The main dataset does not have the data for the end of Nov and Dec. \n",
        "outdoo_weather.drop(range(424169,525601), axis=0, inplace=True)"
      ]
    },
    {
      "cell_type": "code",
      "execution_count": null,
      "id": "3dc2b1c4",
      "metadata": {
        "id": "3dc2b1c4"
      },
      "outputs": [],
      "source": [
        "################################Adding outdoor weather to the main dataset#################################\n",
        "data=pd.concat([data_original, outdoo_weather[['Outdoor_temp(degC)', 'Radiation(kJ/(hm2))']]], axis=1)"
      ]
    },
    {
      "cell_type": "code",
      "execution_count": null,
      "id": "eaed3c14",
      "metadata": {
        "id": "eaed3c14"
      },
      "outputs": [],
      "source": [
        "###################################Omitting unnecessary data###############################################\n",
        "#Here the first step is to eliminate those months when the sensors are not working.\n",
        "#Then, the main important step is to keep the office hours data and set others aside. The office hours are set between 8 AM and 5 PM\n",
        "#Moreover, because the data in the last day is not complete and makes it hard for general loops, so, the data for the last day is omitted as well.\n",
        "#################################Step 1##############################\n",
        "# Step 1 description: dropping the months that the sensors are off.\n",
        "data_wos=data.drop(range(0, 93600), axis=0) #wos stands for without off sensors time\n",
        "\n",
        "# dropping the last day for the sake of easy coding updating the indexes. \n",
        "data_wos=data_wos.drop(labels=range(423360,424169), axis=0).reset_index(drop=True)\n",
        "\n",
        "#So far, the dataset (data_wos) covers the period between 3/7/2019  12:00:00 AM to 10/21/2019  11:59:00 PM\n",
        "\n",
        "#################################Step 2##################################\n",
        "# Step 2 description: keeping the office hours and omitting others.\n",
        "#Here a loop has been written to omit the time outside the office hours in each day\n",
        "\n",
        "Number_of_dates=len(data_wos)/(24*60) #this is the number of days in our dataset (24 means 24 hours & 60 is 60 minutes in each hour)\n",
        "i = 1 #counter for dates (counter of the loop): i=1 means the 3/7/2019 (the start date in our dataset)\n",
        "#The main loop for dropping unnecessary data is written below:\n",
        "while i <= Number_of_dates: \n",
        "    Day_start_index=(i-1)*(24*60) #index of the start of each day (each day starts exactly from 12 AM)\n",
        "    Office_start_index=int((i-1)*(24*60)+Office_hour_start*60) #index of the start of the office hour in each day\n",
        "    Office_end_index=int((i-1)*(24*60)+Ofice_hour_end*60) #index of the end of office hour in each day\n",
        "    Day_end_index=(i-1)*(24*60)+(24*60)-1 #index of the end of each day (each day ends exactly at 11:59 PM)\n",
        "#After defining the index of the start and the end of each day as well as the office hours of each day, the data can be cleaned.\n",
        "#Dropping the data outside the office hours using the above indexes calculated:\n",
        "    data_wos.drop(range(Day_start_index, Office_start_index),axis=0, inplace= True)\n",
        "    data_wos.drop(range(Office_end_index+1, Day_end_index+1), axis=0, inplace= True)\n",
        "    i += 1"
      ]
    },
    {
      "cell_type": "code",
      "execution_count": null,
      "id": "0e8a79a0",
      "metadata": {
        "id": "0e8a79a0"
      },
      "outputs": [],
      "source": [
        "###########################Defining a dataset called data_office_min##############################\n",
        "#Here we need to define a new dataset called data_office_min. The name of the dataset means:\n",
        "#offcie: this dataset is only for office hours & min: this dataset is in minute resolution\n",
        "#Morover, the index of the data_office_min needs to be updated and starts from 0 as below:\n",
        "data_office_min=data_wos.reset_index(drop=True)\n",
        "\n",
        "#All the datatypes in the dataset are ok except the first attribute ['Date']. So, it should be modified.\n",
        "#Changing the data type of the 'Date' attribute to 'datetime64' as follows:\n",
        "data_office_min['Date']=data_office_min['Date'].astype('datetime64')"
      ]
    },
    {
      "cell_type": "code",
      "execution_count": null,
      "id": "7c56db4f",
      "metadata": {
        "id": "7c56db4f"
      },
      "outputs": [],
      "source": [
        "##########################Imputing missing values#######################################\n",
        "#At this stage, the missing values in each attributes need to be filled with appropriate alternatives\n",
        "#Filling the missing values with the average of each attribute is a reasonable approach:\n",
        "from sklearn.impute import SimpleImputer\n",
        "\n",
        "#The instance object from the model has been named imputer here.\n",
        "#Note1: The imputer for the 'mean' strategy applied here is for numeric values (this function does work with DateTime attribute)\n",
        "#Note2: The 'Date' attribute should be omitted here for imputation (actually, it does not have any missing values as well)\n",
        "imputer = SimpleImputer(missing_values=np.nan, strategy='mean')\n",
        "data_office_min_imputed=pd.DataFrame(imputer.fit_transform(data_office_min.drop(['Date'], axis=1)))\n",
        "#Imputation process removed the column names. So, we put them back again in the line below:\n",
        "data_office_min_imputed.columns=data_office_min.columns.drop(['Date'])\n",
        "#We had to omit the Date column (the first attribute) for imputation. We bring it back to our dataset as below:\n",
        "data_office_min_clean=pd.concat([data_office_min['Date'], data_office_min_imputed], axis=1)"
      ]
    },
    {
      "cell_type": "code",
      "execution_count": null,
      "id": "a2a9fb68",
      "metadata": {
        "id": "a2a9fb68"
      },
      "outputs": [],
      "source": [
        "#################################Adding loads for each zone together##########################################\n",
        "#In general, it is a good idea to add different loads of each zone together and create a single attribute for loads in each zone.\n",
        "#The summation of loads for each zone would be the target (label) attribute in the dataset.\n",
        "#Adding the plug, lighting, and AC units loads together for each zone using the mapping function as below:\n",
        "#Note: for using this function, a similar name should be assigned to those attributes that we want to add together.\n",
        "mapping = {'z1_AC1(kW)'  : 'Zone_1_load(kW)',\n",
        "           'z1_Light(kW)': 'Zone_1_load(kW)', \n",
        "           'z1_Plug(kW)' : 'Zone_1_load(kW)', #Similar name 'Zone_1_load(kW)' for zone 1\n",
        "           'z2_AC1(kW)'  : 'Zone_2_load(kW)',\n",
        "           'z2_Light(kW)': 'Zone_2_load(kW)',\n",
        "           'z2_Plug(kW)' : 'Zone_2_load(kW)', #Similar name 'Zone_2_load(kW)' for zone 2\n",
        "           'z3_Light(kW)': 'Zone_3_load(kW)',\n",
        "           'z3_Plug(kW)' : 'Zone_3_load(kW)', #Similar name 'Zone_3_load(kW)' for zone 3\n",
        "           'z4_AC1(kW)'  : 'Zone_4_load(kW)',\n",
        "           'z4_AC2(kW)'  : 'Zone_4_load(kW)',\n",
        "           'z4_AC3(kW)'  : 'Zone_4_load(kW)',\n",
        "           'z4_AC4(kW)'  : 'Zone_4_load(kW)',\n",
        "           'z4_Light(kW)': 'Zone_4_load(kW)',\n",
        "           'z4_Plug(kW)' : 'Zone_4_load(kW)', #Similar name 'Zone_4_load(kW)' for zone 4\n",
        "           'z5_AC1(kW)'  : 'Zone_5_load(kW)',\n",
        "           'z5_Light(kW)': 'Zone_5_load(kW)',\n",
        "           'z5_Plug(kW)' : 'Zone_5_load(kW)'} #Similar name 'Zone_5_load(kW)' for zone 5\n",
        "#the below line, adds (or groups) these attributes together. \n",
        "data_office_min_clean_grouped = data_office_min_clean.set_index('Date').groupby(mapping, axis = 1).sum()\n",
        "data_office_min_clean_grouped=data_office_min_clean_grouped.reset_index(level = 0)\n",
        "#The data_office_min_clean_grouped dataframe includes just the above grouped attributes. Other attributes have been lost during the mapping. \n",
        "#Therefore, We need to Concatenate all attributes again here:\n",
        "data_office_min_clean_grouped=pd.concat([data_office_min_clean_grouped['Date'],\n",
        "                                         data_office_min_clean_grouped['Zone_1_load(kW)'],\n",
        "                                         data_office_min_clean[['z1_S1(degC)', 'z1_S1(RH%)', 'z1_S1(lux)']].round(decimals=2),\n",
        "                                         data_office_min_clean_grouped['Zone_2_load(kW)'],\n",
        "                                         data_office_min_clean[['z2_S1(degC)','z2_S1(RH%)','z2_S1(lux)']].round(decimals=2),\n",
        "                                         data_office_min_clean_grouped['Zone_3_load(kW)'],\n",
        "                                         data_office_min_clean_grouped['Zone_4_load(kW)'],\n",
        "                                         data_office_min_clean[['z4_S1(degC)','z4_S1(RH%)','z4_S1(lux)']].round(decimals=2),\n",
        "                                         data_office_min_clean_grouped['Zone_5_load(kW)'],\n",
        "                                         data_office_min_clean[['z5_S1(degC)','z5_S1(RH%)','z5_S1(lux)']].round(decimals=2), \n",
        "                                         data_office_min_clean[['Outdoor_temp(degC)','Radiation(kJ/(hm2))']].round(decimals=2)], axis=1)   "
      ]
    },
    {
      "cell_type": "code",
      "execution_count": null,
      "id": "ae2f8840",
      "metadata": {
        "id": "ae2f8840"
      },
      "outputs": [],
      "source": [
        "#############Creating different dataset time resolutions & introducing new boolean attributes showing weekends############\n",
        "data_office=data_office_min_clean_grouped\n",
        "###################################dataset with X-min interval#############################   \n",
        "#first, averaging over the time interval:\n",
        "data_modeling=data_office.groupby([data_office['Date'].transform(pd.to_datetime).dt.floor(freq=time)]).mean().round(decimals=2).reset_index()\n",
        "#second, adding the new boolean attribute for the weekend:\n",
        "data_modeling=pd.concat([data_modeling[['Date']], \n",
        "                         pd.DataFrame(data=data_modeling['Date'].dt.day_name().isin(['Saturday', 'Sunday']).astype(int)).rename(columns={'Date': 'Is_weekend?'}),\n",
        "                         data_modeling.drop('Date', axis=1)], axis=1)"
      ]
    },
    {
      "cell_type": "code",
      "execution_count": null,
      "id": "3a956bee",
      "metadata": {
        "id": "3a956bee"
      },
      "outputs": [],
      "source": [
        "######################################Omitting the weekends################################\n",
        "data_modeling.drop(data_modeling.loc[data_modeling['Is_weekend?']==1].index, inplace=True)\n",
        "data_modeling=data_modeling.reset_index(drop=True)\n",
        "data_modeling.drop(['Is_weekend?'], axis=1, inplace= True)\n",
        "data_modeling.drop(['Date'], axis=1, inplace= True)"
      ]
    },
    {
      "cell_type": "code",
      "execution_count": null,
      "id": "b3853b93",
      "metadata": {
        "id": "b3853b93"
      },
      "outputs": [],
      "source": [
        "######################Creating floor data (summation of loads for all zones)###############\n",
        "mapping = {'Zone_1_load(kW)'  : 'Floor_6_load(kW)',\n",
        "           'Zone_2_load(kW)'  : 'Floor_6_load(kW)', \n",
        "           'Zone_3_load(kW)'  : 'Floor_6_load(kW)', \n",
        "           'Zone_4_load(kW)'  : 'Floor_6_load(kW)',\n",
        "           'Zone_5_load(kW)'  : 'Floor_6_load(kW)'} \n",
        "data_floor_first = data_modeling.set_index('z1_S1(degC)').groupby(mapping, axis = 1).sum()\n",
        "data_floor_first = data_floor_first.reset_index(level = 0,drop=True)"
      ]
    },
    {
      "cell_type": "code",
      "execution_count": null,
      "id": "8d685562",
      "metadata": {
        "id": "8d685562"
      },
      "outputs": [],
      "source": [
        "######################Creating floor data (averaging over zones for indoor environmental measurements)###############\n",
        "mapping = {'z1_S1(degC)'  : 'Floor_6_T_(degC)',\n",
        "           'z2_S1(degC)'  : 'Floor_6_T_(degC)', \n",
        "           'z4_S1(degC)'  : 'Floor_6_T_(degC)', \n",
        "           'z5_S1(degC)'  : 'Floor_6_T_(degC)',\n",
        "           'z1_S1(RH%)'   : 'Floor_6_RH_(%)',\n",
        "           'z2_S1(RH%)'   : 'Floor_6_RH_(%)', \n",
        "           'z4_S1(RH%)'   : 'Floor_6_RH_(%)',\n",
        "           'z5_S1(RH%)'   : 'Floor_6_RH_(%)',\n",
        "           'z1_S1(lux)'   : 'Floor_6_ill_(lux)',\n",
        "           'z2_S1(lux)'   : 'Floor_6_ill_(lux)', \n",
        "           'z4_S1(lux)'   : 'Floor_6_ill_(lux)', \n",
        "           'z5_S1(lux)'   : 'Floor_6_ill_(lux)'}\n",
        "data_floor_second = data_modeling.set_index('Zone_1_load(kW)').groupby(mapping, sort=False, axis = 1).mean().round(decimals=2)\n",
        "data_floor_second = data_floor_second.reset_index(level = 0,drop=True)"
      ]
    },
    {
      "cell_type": "code",
      "execution_count": null,
      "id": "d008d5c5",
      "metadata": {
        "id": "d008d5c5"
      },
      "outputs": [],
      "source": [
        "######################Creating floor data (joining previous dataframes)###############\n",
        "data_floor=pd.concat([data_floor_first,\n",
        "                      data_floor_second,\n",
        "                      data_modeling[['Outdoor_temp(degC)', 'Radiation(kJ/(hm2))']]], axis=1)"
      ]
    },
    {
      "cell_type": "code",
      "execution_count": null,
      "id": "9aaba4d4",
      "metadata": {
        "id": "9aaba4d4"
      },
      "outputs": [],
      "source": [
        "######################Shuffle the dataframe and creating X and y dataframes###############\n",
        "data_floor=data_floor.sample(frac=1).reset_index(drop=True)\n",
        "X = data_floor.iloc[:,[1,2,3,4,5]]\n",
        "y = data_floor.iloc[:, [0]]"
      ]
    },
    {
      "cell_type": "code",
      "execution_count": null,
      "id": "16133b28",
      "metadata": {
        "id": "16133b28"
      },
      "outputs": [],
      "source": [
        "###################################### Normalization ##############################\n",
        "from sklearn import preprocessing\n",
        "scaler = preprocessing.MinMaxScaler()\n",
        "names_X = X.columns\n",
        "names_y= y.columns\n",
        "PredictorScalerFit=scaler.fit(X)\n",
        "TargetVarScalerFit=scaler.fit(y)\n",
        "d_X = scaler.fit_transform(X)\n",
        "X = pd.DataFrame(d_X, columns=names_X)\n",
        "d_y = scaler.fit_transform(y)\n",
        "y = pd.DataFrame(d_y, columns=names_y)"
      ]
    },
    {
      "cell_type": "code",
      "execution_count": null,
      "id": "14ed44e2",
      "metadata": {
        "colab": {
          "base_uri": "https://localhost:8080/"
        },
        "id": "14ed44e2",
        "outputId": "0d2154bb-8ab2-452e-dd11-58f63d770314"
      },
      "outputs": [
        {
          "output_type": "stream",
          "name": "stdout",
          "text": [
            "(1141, 5)\n",
            "(1141, 1)\n",
            "(489, 5)\n",
            "(489, 1)\n"
          ]
        },
        {
          "output_type": "execute_result",
          "data": {
            "text/plain": [
              "(None, None)"
            ]
          },
          "metadata": {},
          "execution_count": 16
        }
      ],
      "source": [
        "######################### Splitting the dataset into the Training set and Test set####################\n",
        "\n",
        "from sklearn.model_selection import train_test_split\n",
        "\n",
        "# In the first step we will split the data in training and remaining dataset\n",
        "#X_train, X_rem, y_train, y_rem = train_test_split(X,y, train_size=0.8)\n",
        "\n",
        "X_train, X_test, y_train, y_test = train_test_split(X, y, test_size = 0.3, random_state = 0)\n",
        "\n",
        "print(X_train.shape), print(y_train.shape)\n",
        "#print(X_valid.shape), print(y_valid.shape)\n",
        "print(X_test.shape), print(y_test.shape)"
      ]
    },
    {
      "cell_type": "code",
      "execution_count": null,
      "id": "a8342be3",
      "metadata": {
        "colab": {
          "base_uri": "https://localhost:8080/"
        },
        "id": "a8342be3",
        "outputId": "3a70a11d-f88b-4f8c-89ed-023d19cfaf38"
      },
      "outputs": [
        {
          "output_type": "execute_result",
          "data": {
            "text/plain": [
              "LinearRegression()"
            ]
          },
          "metadata": {},
          "execution_count": 17
        }
      ],
      "source": [
        "regression = LinearRegression()\n",
        "regression.fit(X=X_train, y=y_train)"
      ]
    },
    {
      "cell_type": "code",
      "execution_count": null,
      "id": "19d8f066",
      "metadata": {
        "colab": {
          "base_uri": "https://localhost:8080/",
          "height": 423
        },
        "id": "19d8f066",
        "outputId": "7a6522f7-8e73-46eb-9b92-95724e01f4fe"
      },
      "outputs": [
        {
          "output_type": "execute_result",
          "data": {
            "text/plain": [
              "      Actual Values  Predicted Values\n",
              "1197       0.497642          0.633809\n",
              "587        0.725484          0.618001\n",
              "602        0.171817          0.404429\n",
              "527        0.147585          0.417670\n",
              "76         0.602293          0.595679\n",
              "...             ...               ...\n",
              "776        0.714994          0.636457\n",
              "330        0.734591          0.500167\n",
              "1418       0.158318          0.425773\n",
              "1235       0.734835          0.663624\n",
              "1622       0.911937          0.490363\n",
              "\n",
              "[489 rows x 2 columns]"
            ],
            "text/html": [
              "\n",
              "  <div id=\"df-8f5f3ef7-8d42-4371-9a64-6b56f61abb46\">\n",
              "    <div class=\"colab-df-container\">\n",
              "      <div>\n",
              "<style scoped>\n",
              "    .dataframe tbody tr th:only-of-type {\n",
              "        vertical-align: middle;\n",
              "    }\n",
              "\n",
              "    .dataframe tbody tr th {\n",
              "        vertical-align: top;\n",
              "    }\n",
              "\n",
              "    .dataframe thead th {\n",
              "        text-align: right;\n",
              "    }\n",
              "</style>\n",
              "<table border=\"1\" class=\"dataframe\">\n",
              "  <thead>\n",
              "    <tr style=\"text-align: right;\">\n",
              "      <th></th>\n",
              "      <th>Actual Values</th>\n",
              "      <th>Predicted Values</th>\n",
              "    </tr>\n",
              "  </thead>\n",
              "  <tbody>\n",
              "    <tr>\n",
              "      <th>1197</th>\n",
              "      <td>0.497642</td>\n",
              "      <td>0.633809</td>\n",
              "    </tr>\n",
              "    <tr>\n",
              "      <th>587</th>\n",
              "      <td>0.725484</td>\n",
              "      <td>0.618001</td>\n",
              "    </tr>\n",
              "    <tr>\n",
              "      <th>602</th>\n",
              "      <td>0.171817</td>\n",
              "      <td>0.404429</td>\n",
              "    </tr>\n",
              "    <tr>\n",
              "      <th>527</th>\n",
              "      <td>0.147585</td>\n",
              "      <td>0.417670</td>\n",
              "    </tr>\n",
              "    <tr>\n",
              "      <th>76</th>\n",
              "      <td>0.602293</td>\n",
              "      <td>0.595679</td>\n",
              "    </tr>\n",
              "    <tr>\n",
              "      <th>...</th>\n",
              "      <td>...</td>\n",
              "      <td>...</td>\n",
              "    </tr>\n",
              "    <tr>\n",
              "      <th>776</th>\n",
              "      <td>0.714994</td>\n",
              "      <td>0.636457</td>\n",
              "    </tr>\n",
              "    <tr>\n",
              "      <th>330</th>\n",
              "      <td>0.734591</td>\n",
              "      <td>0.500167</td>\n",
              "    </tr>\n",
              "    <tr>\n",
              "      <th>1418</th>\n",
              "      <td>0.158318</td>\n",
              "      <td>0.425773</td>\n",
              "    </tr>\n",
              "    <tr>\n",
              "      <th>1235</th>\n",
              "      <td>0.734835</td>\n",
              "      <td>0.663624</td>\n",
              "    </tr>\n",
              "    <tr>\n",
              "      <th>1622</th>\n",
              "      <td>0.911937</td>\n",
              "      <td>0.490363</td>\n",
              "    </tr>\n",
              "  </tbody>\n",
              "</table>\n",
              "<p>489 rows × 2 columns</p>\n",
              "</div>\n",
              "      <button class=\"colab-df-convert\" onclick=\"convertToInteractive('df-8f5f3ef7-8d42-4371-9a64-6b56f61abb46')\"\n",
              "              title=\"Convert this dataframe to an interactive table.\"\n",
              "              style=\"display:none;\">\n",
              "        \n",
              "  <svg xmlns=\"http://www.w3.org/2000/svg\" height=\"24px\"viewBox=\"0 0 24 24\"\n",
              "       width=\"24px\">\n",
              "    <path d=\"M0 0h24v24H0V0z\" fill=\"none\"/>\n",
              "    <path d=\"M18.56 5.44l.94 2.06.94-2.06 2.06-.94-2.06-.94-.94-2.06-.94 2.06-2.06.94zm-11 1L8.5 8.5l.94-2.06 2.06-.94-2.06-.94L8.5 2.5l-.94 2.06-2.06.94zm10 10l.94 2.06.94-2.06 2.06-.94-2.06-.94-.94-2.06-.94 2.06-2.06.94z\"/><path d=\"M17.41 7.96l-1.37-1.37c-.4-.4-.92-.59-1.43-.59-.52 0-1.04.2-1.43.59L10.3 9.45l-7.72 7.72c-.78.78-.78 2.05 0 2.83L4 21.41c.39.39.9.59 1.41.59.51 0 1.02-.2 1.41-.59l7.78-7.78 2.81-2.81c.8-.78.8-2.07 0-2.86zM5.41 20L4 18.59l7.72-7.72 1.47 1.35L5.41 20z\"/>\n",
              "  </svg>\n",
              "      </button>\n",
              "      \n",
              "  <style>\n",
              "    .colab-df-container {\n",
              "      display:flex;\n",
              "      flex-wrap:wrap;\n",
              "      gap: 12px;\n",
              "    }\n",
              "\n",
              "    .colab-df-convert {\n",
              "      background-color: #E8F0FE;\n",
              "      border: none;\n",
              "      border-radius: 50%;\n",
              "      cursor: pointer;\n",
              "      display: none;\n",
              "      fill: #1967D2;\n",
              "      height: 32px;\n",
              "      padding: 0 0 0 0;\n",
              "      width: 32px;\n",
              "    }\n",
              "\n",
              "    .colab-df-convert:hover {\n",
              "      background-color: #E2EBFA;\n",
              "      box-shadow: 0px 1px 2px rgba(60, 64, 67, 0.3), 0px 1px 3px 1px rgba(60, 64, 67, 0.15);\n",
              "      fill: #174EA6;\n",
              "    }\n",
              "\n",
              "    [theme=dark] .colab-df-convert {\n",
              "      background-color: #3B4455;\n",
              "      fill: #D2E3FC;\n",
              "    }\n",
              "\n",
              "    [theme=dark] .colab-df-convert:hover {\n",
              "      background-color: #434B5C;\n",
              "      box-shadow: 0px 1px 3px 1px rgba(0, 0, 0, 0.15);\n",
              "      filter: drop-shadow(0px 1px 2px rgba(0, 0, 0, 0.3));\n",
              "      fill: #FFFFFF;\n",
              "    }\n",
              "  </style>\n",
              "\n",
              "      <script>\n",
              "        const buttonEl =\n",
              "          document.querySelector('#df-8f5f3ef7-8d42-4371-9a64-6b56f61abb46 button.colab-df-convert');\n",
              "        buttonEl.style.display =\n",
              "          google.colab.kernel.accessAllowed ? 'block' : 'none';\n",
              "\n",
              "        async function convertToInteractive(key) {\n",
              "          const element = document.querySelector('#df-8f5f3ef7-8d42-4371-9a64-6b56f61abb46');\n",
              "          const dataTable =\n",
              "            await google.colab.kernel.invokeFunction('convertToInteractive',\n",
              "                                                     [key], {});\n",
              "          if (!dataTable) return;\n",
              "\n",
              "          const docLinkHtml = 'Like what you see? Visit the ' +\n",
              "            '<a target=\"_blank\" href=https://colab.research.google.com/notebooks/data_table.ipynb>data table notebook</a>'\n",
              "            + ' to learn more about interactive tables.';\n",
              "          element.innerHTML = '';\n",
              "          dataTable['output_type'] = 'display_data';\n",
              "          await google.colab.output.renderOutput(dataTable, element);\n",
              "          const docLink = document.createElement('div');\n",
              "          docLink.innerHTML = docLinkHtml;\n",
              "          element.appendChild(docLink);\n",
              "        }\n",
              "      </script>\n",
              "    </div>\n",
              "  </div>\n",
              "  "
            ]
          },
          "metadata": {},
          "execution_count": 18
        }
      ],
      "source": [
        "y_pred = regression.predict(X = X_test)\n",
        "act_vs_pred = pd.concat([y_test, \n",
        "                         pd.DataFrame(data = y_pred.flatten(), index = y_test.index)], axis = 1)\n",
        "act_vs_pred.columns = [\"Actual Values\", \"Predicted Values\"]\n",
        "act_vs_pred "
      ]
    },
    {
      "cell_type": "code",
      "execution_count": null,
      "id": "13190f75",
      "metadata": {
        "colab": {
          "base_uri": "https://localhost:8080/"
        },
        "id": "13190f75",
        "outputId": "dc3746a1-b105-4965-83ce-0ed0f9398d5f"
      },
      "outputs": [
        {
          "output_type": "stream",
          "name": "stdout",
          "text": [
            "Coefficient of determination (R2): 0.6100535985169421\n"
          ]
        }
      ],
      "source": [
        "r2 = regression.score(X = X_test, y = y_test)\n",
        "print(\"Coefficient of determination (R2):\", r2)"
      ]
    },
    {
      "cell_type": "code",
      "execution_count": null,
      "id": "9ede63f3",
      "metadata": {
        "colab": {
          "base_uri": "https://localhost:8080/"
        },
        "id": "9ede63f3",
        "outputId": "c77bdadd-41c6-41a5-a798-1b51296c2f57"
      },
      "outputs": [
        {
          "output_type": "stream",
          "name": "stdout",
          "text": [
            "Mean squared error (MSE): 0.026089625248442373\n",
            "Root mean squared error (RMSE): 0.1615228319725802\n",
            "Mean Absolute Error: 0.12882116790907022\n"
          ]
        }
      ],
      "source": [
        "mse = mean_squared_error(y_true = y_test, y_pred = y_pred)\n",
        "rmse= mean_squared_error(y_true = y_test, y_pred = y_pred, squared = False)\n",
        "print(\"Mean squared error (MSE):\", mse)\n",
        "print(\"Root mean squared error (RMSE):\", rmse)\n",
        "#calculate MAE\n",
        "print('Mean Absolute Error:', mae(y_test, y_pred))"
      ]
    },
    {
      "cell_type": "code",
      "execution_count": null,
      "id": "8ce9a935",
      "metadata": {
        "colab": {
          "base_uri": "https://localhost:8080/",
          "height": 423
        },
        "id": "8ce9a935",
        "outputId": "121338d8-580f-428c-f243-66982a22eb1a"
      },
      "outputs": [
        {
          "output_type": "execute_result",
          "data": {
            "text/plain": [
              "        actual  prediction\n",
              "1197  0.497642    0.633809\n",
              "587   0.725484    0.618001\n",
              "602   0.171817    0.404429\n",
              "527   0.147585    0.417670\n",
              "76    0.602293    0.595679\n",
              "...        ...         ...\n",
              "776   0.714994    0.636457\n",
              "330   0.734591    0.500167\n",
              "1418  0.158318    0.425773\n",
              "1235  0.734835    0.663624\n",
              "1622  0.911937    0.490363\n",
              "\n",
              "[489 rows x 2 columns]"
            ],
            "text/html": [
              "\n",
              "  <div id=\"df-a0ce8f94-127c-4291-8fc4-72460b9a9b3c\">\n",
              "    <div class=\"colab-df-container\">\n",
              "      <div>\n",
              "<style scoped>\n",
              "    .dataframe tbody tr th:only-of-type {\n",
              "        vertical-align: middle;\n",
              "    }\n",
              "\n",
              "    .dataframe tbody tr th {\n",
              "        vertical-align: top;\n",
              "    }\n",
              "\n",
              "    .dataframe thead th {\n",
              "        text-align: right;\n",
              "    }\n",
              "</style>\n",
              "<table border=\"1\" class=\"dataframe\">\n",
              "  <thead>\n",
              "    <tr style=\"text-align: right;\">\n",
              "      <th></th>\n",
              "      <th>actual</th>\n",
              "      <th>prediction</th>\n",
              "    </tr>\n",
              "  </thead>\n",
              "  <tbody>\n",
              "    <tr>\n",
              "      <th>1197</th>\n",
              "      <td>0.497642</td>\n",
              "      <td>0.633809</td>\n",
              "    </tr>\n",
              "    <tr>\n",
              "      <th>587</th>\n",
              "      <td>0.725484</td>\n",
              "      <td>0.618001</td>\n",
              "    </tr>\n",
              "    <tr>\n",
              "      <th>602</th>\n",
              "      <td>0.171817</td>\n",
              "      <td>0.404429</td>\n",
              "    </tr>\n",
              "    <tr>\n",
              "      <th>527</th>\n",
              "      <td>0.147585</td>\n",
              "      <td>0.417670</td>\n",
              "    </tr>\n",
              "    <tr>\n",
              "      <th>76</th>\n",
              "      <td>0.602293</td>\n",
              "      <td>0.595679</td>\n",
              "    </tr>\n",
              "    <tr>\n",
              "      <th>...</th>\n",
              "      <td>...</td>\n",
              "      <td>...</td>\n",
              "    </tr>\n",
              "    <tr>\n",
              "      <th>776</th>\n",
              "      <td>0.714994</td>\n",
              "      <td>0.636457</td>\n",
              "    </tr>\n",
              "    <tr>\n",
              "      <th>330</th>\n",
              "      <td>0.734591</td>\n",
              "      <td>0.500167</td>\n",
              "    </tr>\n",
              "    <tr>\n",
              "      <th>1418</th>\n",
              "      <td>0.158318</td>\n",
              "      <td>0.425773</td>\n",
              "    </tr>\n",
              "    <tr>\n",
              "      <th>1235</th>\n",
              "      <td>0.734835</td>\n",
              "      <td>0.663624</td>\n",
              "    </tr>\n",
              "    <tr>\n",
              "      <th>1622</th>\n",
              "      <td>0.911937</td>\n",
              "      <td>0.490363</td>\n",
              "    </tr>\n",
              "  </tbody>\n",
              "</table>\n",
              "<p>489 rows × 2 columns</p>\n",
              "</div>\n",
              "      <button class=\"colab-df-convert\" onclick=\"convertToInteractive('df-a0ce8f94-127c-4291-8fc4-72460b9a9b3c')\"\n",
              "              title=\"Convert this dataframe to an interactive table.\"\n",
              "              style=\"display:none;\">\n",
              "        \n",
              "  <svg xmlns=\"http://www.w3.org/2000/svg\" height=\"24px\"viewBox=\"0 0 24 24\"\n",
              "       width=\"24px\">\n",
              "    <path d=\"M0 0h24v24H0V0z\" fill=\"none\"/>\n",
              "    <path d=\"M18.56 5.44l.94 2.06.94-2.06 2.06-.94-2.06-.94-.94-2.06-.94 2.06-2.06.94zm-11 1L8.5 8.5l.94-2.06 2.06-.94-2.06-.94L8.5 2.5l-.94 2.06-2.06.94zm10 10l.94 2.06.94-2.06 2.06-.94-2.06-.94-.94-2.06-.94 2.06-2.06.94z\"/><path d=\"M17.41 7.96l-1.37-1.37c-.4-.4-.92-.59-1.43-.59-.52 0-1.04.2-1.43.59L10.3 9.45l-7.72 7.72c-.78.78-.78 2.05 0 2.83L4 21.41c.39.39.9.59 1.41.59.51 0 1.02-.2 1.41-.59l7.78-7.78 2.81-2.81c.8-.78.8-2.07 0-2.86zM5.41 20L4 18.59l7.72-7.72 1.47 1.35L5.41 20z\"/>\n",
              "  </svg>\n",
              "      </button>\n",
              "      \n",
              "  <style>\n",
              "    .colab-df-container {\n",
              "      display:flex;\n",
              "      flex-wrap:wrap;\n",
              "      gap: 12px;\n",
              "    }\n",
              "\n",
              "    .colab-df-convert {\n",
              "      background-color: #E8F0FE;\n",
              "      border: none;\n",
              "      border-radius: 50%;\n",
              "      cursor: pointer;\n",
              "      display: none;\n",
              "      fill: #1967D2;\n",
              "      height: 32px;\n",
              "      padding: 0 0 0 0;\n",
              "      width: 32px;\n",
              "    }\n",
              "\n",
              "    .colab-df-convert:hover {\n",
              "      background-color: #E2EBFA;\n",
              "      box-shadow: 0px 1px 2px rgba(60, 64, 67, 0.3), 0px 1px 3px 1px rgba(60, 64, 67, 0.15);\n",
              "      fill: #174EA6;\n",
              "    }\n",
              "\n",
              "    [theme=dark] .colab-df-convert {\n",
              "      background-color: #3B4455;\n",
              "      fill: #D2E3FC;\n",
              "    }\n",
              "\n",
              "    [theme=dark] .colab-df-convert:hover {\n",
              "      background-color: #434B5C;\n",
              "      box-shadow: 0px 1px 3px 1px rgba(0, 0, 0, 0.15);\n",
              "      filter: drop-shadow(0px 1px 2px rgba(0, 0, 0, 0.3));\n",
              "      fill: #FFFFFF;\n",
              "    }\n",
              "  </style>\n",
              "\n",
              "      <script>\n",
              "        const buttonEl =\n",
              "          document.querySelector('#df-a0ce8f94-127c-4291-8fc4-72460b9a9b3c button.colab-df-convert');\n",
              "        buttonEl.style.display =\n",
              "          google.colab.kernel.accessAllowed ? 'block' : 'none';\n",
              "\n",
              "        async function convertToInteractive(key) {\n",
              "          const element = document.querySelector('#df-a0ce8f94-127c-4291-8fc4-72460b9a9b3c');\n",
              "          const dataTable =\n",
              "            await google.colab.kernel.invokeFunction('convertToInteractive',\n",
              "                                                     [key], {});\n",
              "          if (!dataTable) return;\n",
              "\n",
              "          const docLinkHtml = 'Like what you see? Visit the ' +\n",
              "            '<a target=\"_blank\" href=https://colab.research.google.com/notebooks/data_table.ipynb>data table notebook</a>'\n",
              "            + ' to learn more about interactive tables.';\n",
              "          element.innerHTML = '';\n",
              "          dataTable['output_type'] = 'display_data';\n",
              "          await google.colab.output.renderOutput(dataTable, element);\n",
              "          const docLink = document.createElement('div');\n",
              "          docLink.innerHTML = docLinkHtml;\n",
              "          element.appendChild(docLink);\n",
              "        }\n",
              "      </script>\n",
              "    </div>\n",
              "  </div>\n",
              "  "
            ]
          },
          "metadata": {},
          "execution_count": 21
        }
      ],
      "source": [
        "prediction = regression.predict(X= X_test)\n",
        "act_vs_pred1 = pd.concat([y_test,\n",
        "                          pd.DataFrame(data = prediction.flatten(), index = y_test.index)], axis = 1)\n",
        "act_vs_pred1.columns =[\"actual\", \"prediction\"]\n",
        "act_vs_pred1  "
      ]
    },
    {
      "cell_type": "code",
      "execution_count": null,
      "id": "049bcefd",
      "metadata": {
        "colab": {
          "base_uri": "https://localhost:8080/",
          "height": 423
        },
        "id": "049bcefd",
        "outputId": "ea027315-f267-491f-ab02-90da1d3c7285"
      },
      "outputs": [
        {
          "output_type": "execute_result",
          "data": {
            "text/plain": [
              "        actual  prediction  Residuals\n",
              "1197  0.497642    0.633809  -0.136167\n",
              "587   0.725484    0.618001   0.107482\n",
              "602   0.171817    0.404429  -0.232612\n",
              "527   0.147585    0.417670  -0.270085\n",
              "76    0.602293    0.595679   0.006614\n",
              "...        ...         ...        ...\n",
              "776   0.714994    0.636457   0.078537\n",
              "330   0.734591    0.500167   0.234424\n",
              "1418  0.158318    0.425773  -0.267454\n",
              "1235  0.734835    0.663624   0.071211\n",
              "1622  0.911937    0.490363   0.421574\n",
              "\n",
              "[489 rows x 3 columns]"
            ],
            "text/html": [
              "\n",
              "  <div id=\"df-58c88fe0-b228-4bbf-b99d-15d4533b4355\">\n",
              "    <div class=\"colab-df-container\">\n",
              "      <div>\n",
              "<style scoped>\n",
              "    .dataframe tbody tr th:only-of-type {\n",
              "        vertical-align: middle;\n",
              "    }\n",
              "\n",
              "    .dataframe tbody tr th {\n",
              "        vertical-align: top;\n",
              "    }\n",
              "\n",
              "    .dataframe thead th {\n",
              "        text-align: right;\n",
              "    }\n",
              "</style>\n",
              "<table border=\"1\" class=\"dataframe\">\n",
              "  <thead>\n",
              "    <tr style=\"text-align: right;\">\n",
              "      <th></th>\n",
              "      <th>actual</th>\n",
              "      <th>prediction</th>\n",
              "      <th>Residuals</th>\n",
              "    </tr>\n",
              "  </thead>\n",
              "  <tbody>\n",
              "    <tr>\n",
              "      <th>1197</th>\n",
              "      <td>0.497642</td>\n",
              "      <td>0.633809</td>\n",
              "      <td>-0.136167</td>\n",
              "    </tr>\n",
              "    <tr>\n",
              "      <th>587</th>\n",
              "      <td>0.725484</td>\n",
              "      <td>0.618001</td>\n",
              "      <td>0.107482</td>\n",
              "    </tr>\n",
              "    <tr>\n",
              "      <th>602</th>\n",
              "      <td>0.171817</td>\n",
              "      <td>0.404429</td>\n",
              "      <td>-0.232612</td>\n",
              "    </tr>\n",
              "    <tr>\n",
              "      <th>527</th>\n",
              "      <td>0.147585</td>\n",
              "      <td>0.417670</td>\n",
              "      <td>-0.270085</td>\n",
              "    </tr>\n",
              "    <tr>\n",
              "      <th>76</th>\n",
              "      <td>0.602293</td>\n",
              "      <td>0.595679</td>\n",
              "      <td>0.006614</td>\n",
              "    </tr>\n",
              "    <tr>\n",
              "      <th>...</th>\n",
              "      <td>...</td>\n",
              "      <td>...</td>\n",
              "      <td>...</td>\n",
              "    </tr>\n",
              "    <tr>\n",
              "      <th>776</th>\n",
              "      <td>0.714994</td>\n",
              "      <td>0.636457</td>\n",
              "      <td>0.078537</td>\n",
              "    </tr>\n",
              "    <tr>\n",
              "      <th>330</th>\n",
              "      <td>0.734591</td>\n",
              "      <td>0.500167</td>\n",
              "      <td>0.234424</td>\n",
              "    </tr>\n",
              "    <tr>\n",
              "      <th>1418</th>\n",
              "      <td>0.158318</td>\n",
              "      <td>0.425773</td>\n",
              "      <td>-0.267454</td>\n",
              "    </tr>\n",
              "    <tr>\n",
              "      <th>1235</th>\n",
              "      <td>0.734835</td>\n",
              "      <td>0.663624</td>\n",
              "      <td>0.071211</td>\n",
              "    </tr>\n",
              "    <tr>\n",
              "      <th>1622</th>\n",
              "      <td>0.911937</td>\n",
              "      <td>0.490363</td>\n",
              "      <td>0.421574</td>\n",
              "    </tr>\n",
              "  </tbody>\n",
              "</table>\n",
              "<p>489 rows × 3 columns</p>\n",
              "</div>\n",
              "      <button class=\"colab-df-convert\" onclick=\"convertToInteractive('df-58c88fe0-b228-4bbf-b99d-15d4533b4355')\"\n",
              "              title=\"Convert this dataframe to an interactive table.\"\n",
              "              style=\"display:none;\">\n",
              "        \n",
              "  <svg xmlns=\"http://www.w3.org/2000/svg\" height=\"24px\"viewBox=\"0 0 24 24\"\n",
              "       width=\"24px\">\n",
              "    <path d=\"M0 0h24v24H0V0z\" fill=\"none\"/>\n",
              "    <path d=\"M18.56 5.44l.94 2.06.94-2.06 2.06-.94-2.06-.94-.94-2.06-.94 2.06-2.06.94zm-11 1L8.5 8.5l.94-2.06 2.06-.94-2.06-.94L8.5 2.5l-.94 2.06-2.06.94zm10 10l.94 2.06.94-2.06 2.06-.94-2.06-.94-.94-2.06-.94 2.06-2.06.94z\"/><path d=\"M17.41 7.96l-1.37-1.37c-.4-.4-.92-.59-1.43-.59-.52 0-1.04.2-1.43.59L10.3 9.45l-7.72 7.72c-.78.78-.78 2.05 0 2.83L4 21.41c.39.39.9.59 1.41.59.51 0 1.02-.2 1.41-.59l7.78-7.78 2.81-2.81c.8-.78.8-2.07 0-2.86zM5.41 20L4 18.59l7.72-7.72 1.47 1.35L5.41 20z\"/>\n",
              "  </svg>\n",
              "      </button>\n",
              "      \n",
              "  <style>\n",
              "    .colab-df-container {\n",
              "      display:flex;\n",
              "      flex-wrap:wrap;\n",
              "      gap: 12px;\n",
              "    }\n",
              "\n",
              "    .colab-df-convert {\n",
              "      background-color: #E8F0FE;\n",
              "      border: none;\n",
              "      border-radius: 50%;\n",
              "      cursor: pointer;\n",
              "      display: none;\n",
              "      fill: #1967D2;\n",
              "      height: 32px;\n",
              "      padding: 0 0 0 0;\n",
              "      width: 32px;\n",
              "    }\n",
              "\n",
              "    .colab-df-convert:hover {\n",
              "      background-color: #E2EBFA;\n",
              "      box-shadow: 0px 1px 2px rgba(60, 64, 67, 0.3), 0px 1px 3px 1px rgba(60, 64, 67, 0.15);\n",
              "      fill: #174EA6;\n",
              "    }\n",
              "\n",
              "    [theme=dark] .colab-df-convert {\n",
              "      background-color: #3B4455;\n",
              "      fill: #D2E3FC;\n",
              "    }\n",
              "\n",
              "    [theme=dark] .colab-df-convert:hover {\n",
              "      background-color: #434B5C;\n",
              "      box-shadow: 0px 1px 3px 1px rgba(0, 0, 0, 0.15);\n",
              "      filter: drop-shadow(0px 1px 2px rgba(0, 0, 0, 0.3));\n",
              "      fill: #FFFFFF;\n",
              "    }\n",
              "  </style>\n",
              "\n",
              "      <script>\n",
              "        const buttonEl =\n",
              "          document.querySelector('#df-58c88fe0-b228-4bbf-b99d-15d4533b4355 button.colab-df-convert');\n",
              "        buttonEl.style.display =\n",
              "          google.colab.kernel.accessAllowed ? 'block' : 'none';\n",
              "\n",
              "        async function convertToInteractive(key) {\n",
              "          const element = document.querySelector('#df-58c88fe0-b228-4bbf-b99d-15d4533b4355');\n",
              "          const dataTable =\n",
              "            await google.colab.kernel.invokeFunction('convertToInteractive',\n",
              "                                                     [key], {});\n",
              "          if (!dataTable) return;\n",
              "\n",
              "          const docLinkHtml = 'Like what you see? Visit the ' +\n",
              "            '<a target=\"_blank\" href=https://colab.research.google.com/notebooks/data_table.ipynb>data table notebook</a>'\n",
              "            + ' to learn more about interactive tables.';\n",
              "          element.innerHTML = '';\n",
              "          dataTable['output_type'] = 'display_data';\n",
              "          await google.colab.output.renderOutput(dataTable, element);\n",
              "          const docLink = document.createElement('div');\n",
              "          docLink.innerHTML = docLinkHtml;\n",
              "          element.appendChild(docLink);\n",
              "        }\n",
              "      </script>\n",
              "    </div>\n",
              "  </div>\n",
              "  "
            ]
          },
          "metadata": {},
          "execution_count": 22
        }
      ],
      "source": [
        "act_vs_pred1[\"Residuals\"] = act_vs_pred1[\"actual\"] - act_vs_pred1[\"prediction\"]\n",
        "act_vs_pred1"
      ]
    },
    {
      "cell_type": "code",
      "execution_count": null,
      "id": "bfcb527a",
      "metadata": {
        "colab": {
          "base_uri": "https://localhost:8080/"
        },
        "id": "bfcb527a",
        "outputId": "7e63d764-2fe6-488a-fbc3-20646e7a8555"
      },
      "outputs": [
        {
          "output_type": "stream",
          "name": "stdout",
          "text": [
            "Coefficient of determination (R2): 0.6100535985169421\n"
          ]
        }
      ],
      "source": [
        "r2 = r2_score(y_test, prediction)\n",
        "print(\"Coefficient of determination (R2):\", r2)"
      ]
    },
    {
      "cell_type": "code",
      "execution_count": null,
      "id": "ddf6da49",
      "metadata": {
        "colab": {
          "base_uri": "https://localhost:8080/"
        },
        "id": "ddf6da49",
        "outputId": "abad6c03-88ed-4fea-c6d7-2e6e8569fdbc"
      },
      "outputs": [
        {
          "output_type": "stream",
          "name": "stdout",
          "text": [
            "Root Mean Squared Error(RMSE): 0.1615228319725802\n",
            "Mean Absolute Percentage Error(MAPE): 72.66915474196891\n"
          ]
        }
      ],
      "source": [
        "RMSE = sqrt(mean_squared_error(y_test, prediction))\n",
        "print('Root Mean Squared Error(RMSE):', sqrt(mean_squared_error(y_test, prediction)))\n",
        "prediction_orig=TargetVarScalerFit.inverse_transform(prediction)\n",
        "y_test_orig=TargetVarScalerFit.inverse_transform(y_test)\n",
        "\n",
        "#calculate MAPE\n",
        "MAPE=(abs(y_test_orig-prediction_orig)/y_test_orig).mean() *100\n",
        "print('Mean Absolute Percentage Error(MAPE):', MAPE)"
      ]
    },
    {
      "cell_type": "code",
      "execution_count": null,
      "id": "c09b4e46",
      "metadata": {
        "colab": {
          "base_uri": "https://localhost:8080/",
          "height": 354
        },
        "id": "c09b4e46",
        "outputId": "3e68e61a-1b33-46ee-ef89-a19a886d7a96"
      },
      "outputs": [
        {
          "output_type": "execute_result",
          "data": {
            "text/plain": [
              "<matplotlib.axes._subplots.AxesSubplot at 0x7fd4f5add510>"
            ]
          },
          "metadata": {},
          "execution_count": 25
        },
        {
          "output_type": "display_data",
          "data": {
            "text/plain": [
              "<Figure size 360x360 with 1 Axes>"
            ],
            "image/png": "[encoded data removed]"
          },
          "metadata": {
            "needs_background": "light"
          }
        }
      ],
      "source": [
        "act_vs_pred1[\"Residuals\"].plot(kind = \"hist\", bins = 25, legend = True, color = \"black\", figsize = (5,5), title = \"floor\",xlim=[-1,1])"
      ]
    },
    {
      "cell_type": "code",
      "execution_count": null,
      "id": "16e37e9b",
      "metadata": {
        "colab": {
          "base_uri": "https://localhost:8080/"
        },
        "id": "16e37e9b",
        "outputId": "bc3e26e4-8ad3-4067-aa62-20182f1550ec"
      },
      "outputs": [
        {
          "output_type": "display_data",
          "data": {
            "text/plain": [
              "<Figure size 432x288 with 1 Axes>"
            ],
            "image/png": "[encoded data removed]"
          },
          "metadata": {
            "needs_background": "light"
          }
        }
      ],
      "source": [
        "plt.scatter(y_test,prediction)\n",
        "plot1=plt.xlabel(\"Actual Values\")\n",
        "plt.ylabel(\"Predicted Values\")\n",
        "plt.xlim([0,1])\n",
        "plt.ylim([0,1])\n",
        "plt.plot(y_test,y_test, color=\"black\")\n",
        "plt.show()"
      ]
    },
    {
      "cell_type": "code",
      "execution_count": null,
      "id": "9ffc12d6",
      "metadata": {
        "id": "9ffc12d6",
        "colab": {
          "base_uri": "https://localhost:8080/",
          "height": 238
        },
        "outputId": "16b75ac3-21cc-4ea9-b807-8588efe071a6"
      },
      "outputs": [
        {
          "output_type": "execute_result",
          "data": {
            "text/plain": [
              "                     Coefficients\n",
              "Floor_6_T_(degC)        -1.053278\n",
              "Floor_6_RH_(%)           0.268470\n",
              "Floor_6_ill_(lux)        0.147326\n",
              "Outdoor_temp(degC)      -0.038025\n",
              "Radiation(kJ/(hm2))      0.222202\n",
              "Intercept                0.498751"
            ],
            "text/html": [
              "\n",
              "  <div id=\"df-fdb0324f-38c9-4dea-8948-31d0a2df9b7a\">\n",
              "    <div class=\"colab-df-container\">\n",
              "      <div>\n",
              "<style scoped>\n",
              "    .dataframe tbody tr th:only-of-type {\n",
              "        vertical-align: middle;\n",
              "    }\n",
              "\n",
              "    .dataframe tbody tr th {\n",
              "        vertical-align: top;\n",
              "    }\n",
              "\n",
              "    .dataframe thead th {\n",
              "        text-align: right;\n",
              "    }\n",
              "</style>\n",
              "<table border=\"1\" class=\"dataframe\">\n",
              "  <thead>\n",
              "    <tr style=\"text-align: right;\">\n",
              "      <th></th>\n",
              "      <th>Coefficients</th>\n",
              "    </tr>\n",
              "  </thead>\n",
              "  <tbody>\n",
              "    <tr>\n",
              "      <th>Floor_6_T_(degC)</th>\n",
              "      <td>-1.053278</td>\n",
              "    </tr>\n",
              "    <tr>\n",
              "      <th>Floor_6_RH_(%)</th>\n",
              "      <td>0.268470</td>\n",
              "    </tr>\n",
              "    <tr>\n",
              "      <th>Floor_6_ill_(lux)</th>\n",
              "      <td>0.147326</td>\n",
              "    </tr>\n",
              "    <tr>\n",
              "      <th>Outdoor_temp(degC)</th>\n",
              "      <td>-0.038025</td>\n",
              "    </tr>\n",
              "    <tr>\n",
              "      <th>Radiation(kJ/(hm2))</th>\n",
              "      <td>0.222202</td>\n",
              "    </tr>\n",
              "    <tr>\n",
              "      <th>Intercept</th>\n",
              "      <td>0.498751</td>\n",
              "    </tr>\n",
              "  </tbody>\n",
              "</table>\n",
              "</div>\n",
              "      <button class=\"colab-df-convert\" onclick=\"convertToInteractive('df-fdb0324f-38c9-4dea-8948-31d0a2df9b7a')\"\n",
              "              title=\"Convert this dataframe to an interactive table.\"\n",
              "              style=\"display:none;\">\n",
              "        \n",
              "  <svg xmlns=\"http://www.w3.org/2000/svg\" height=\"24px\"viewBox=\"0 0 24 24\"\n",
              "       width=\"24px\">\n",
              "    <path d=\"M0 0h24v24H0V0z\" fill=\"none\"/>\n",
              "    <path d=\"M18.56 5.44l.94 2.06.94-2.06 2.06-.94-2.06-.94-.94-2.06-.94 2.06-2.06.94zm-11 1L8.5 8.5l.94-2.06 2.06-.94-2.06-.94L8.5 2.5l-.94 2.06-2.06.94zm10 10l.94 2.06.94-2.06 2.06-.94-2.06-.94-.94-2.06-.94 2.06-2.06.94z\"/><path d=\"M17.41 7.96l-1.37-1.37c-.4-.4-.92-.59-1.43-.59-.52 0-1.04.2-1.43.59L10.3 9.45l-7.72 7.72c-.78.78-.78 2.05 0 2.83L4 21.41c.39.39.9.59 1.41.59.51 0 1.02-.2 1.41-.59l7.78-7.78 2.81-2.81c.8-.78.8-2.07 0-2.86zM5.41 20L4 18.59l7.72-7.72 1.47 1.35L5.41 20z\"/>\n",
              "  </svg>\n",
              "      </button>\n",
              "      \n",
              "  <style>\n",
              "    .colab-df-container {\n",
              "      display:flex;\n",
              "      flex-wrap:wrap;\n",
              "      gap: 12px;\n",
              "    }\n",
              "\n",
              "    .colab-df-convert {\n",
              "      background-color: #E8F0FE;\n",
              "      border: none;\n",
              "      border-radius: 50%;\n",
              "      cursor: pointer;\n",
              "      display: none;\n",
              "      fill: #1967D2;\n",
              "      height: 32px;\n",
              "      padding: 0 0 0 0;\n",
              "      width: 32px;\n",
              "    }\n",
              "\n",
              "    .colab-df-convert:hover {\n",
              "      background-color: #E2EBFA;\n",
              "      box-shadow: 0px 1px 2px rgba(60, 64, 67, 0.3), 0px 1px 3px 1px rgba(60, 64, 67, 0.15);\n",
              "      fill: #174EA6;\n",
              "    }\n",
              "\n",
              "    [theme=dark] .colab-df-convert {\n",
              "      background-color: #3B4455;\n",
              "      fill: #D2E3FC;\n",
              "    }\n",
              "\n",
              "    [theme=dark] .colab-df-convert:hover {\n",
              "      background-color: #434B5C;\n",
              "      box-shadow: 0px 1px 3px 1px rgba(0, 0, 0, 0.15);\n",
              "      filter: drop-shadow(0px 1px 2px rgba(0, 0, 0, 0.3));\n",
              "      fill: #FFFFFF;\n",
              "    }\n",
              "  </style>\n",
              "\n",
              "      <script>\n",
              "        const buttonEl =\n",
              "          document.querySelector('#df-fdb0324f-38c9-4dea-8948-31d0a2df9b7a button.colab-df-convert');\n",
              "        buttonEl.style.display =\n",
              "          google.colab.kernel.accessAllowed ? 'block' : 'none';\n",
              "\n",
              "        async function convertToInteractive(key) {\n",
              "          const element = document.querySelector('#df-fdb0324f-38c9-4dea-8948-31d0a2df9b7a');\n",
              "          const dataTable =\n",
              "            await google.colab.kernel.invokeFunction('convertToInteractive',\n",
              "                                                     [key], {});\n",
              "          if (!dataTable) return;\n",
              "\n",
              "          const docLinkHtml = 'Like what you see? Visit the ' +\n",
              "            '<a target=\"_blank\" href=https://colab.research.google.com/notebooks/data_table.ipynb>data table notebook</a>'\n",
              "            + ' to learn more about interactive tables.';\n",
              "          element.innerHTML = '';\n",
              "          dataTable['output_type'] = 'display_data';\n",
              "          await google.colab.output.renderOutput(dataTable, element);\n",
              "          const docLink = document.createElement('div');\n",
              "          docLink.innerHTML = docLinkHtml;\n",
              "          element.appendChild(docLink);\n",
              "        }\n",
              "      </script>\n",
              "    </div>\n",
              "  </div>\n",
              "  "
            ]
          },
          "metadata": {},
          "execution_count": 27
        }
      ],
      "source": [
        "coefficients = pd.DataFrame(data = regression.coef_.flatten(), index = X_train.columns)\n",
        "intercept = pd.DataFrame(data = regression.intercept_, index = [\"Intercept\"])\n",
        "\n",
        "regression_model = coefficients.append(intercept)\n",
        "regression_model.columns = ['Coefficients']\n",
        "\n",
        "regression_model"
      ]
    },
    {
      "cell_type": "code",
      "source": [
        "model = sm.OLS(endog = y_train, exog = sm.add_constant(data=X_train))\n",
        "results = model.fit()\n",
        "print(results.summary())"
      ],
      "metadata": {
        "id": "XyZdM9Xf-QEY",
        "colab": {
          "base_uri": "https://localhost:8080/"
        },
        "outputId": "646dccd7-a664-4bdd-eac8-1d7810ac506f"
      },
      "id": "XyZdM9Xf-QEY",
      "execution_count": null,
      "outputs": [
        {
          "output_type": "stream",
          "name": "stdout",
          "text": [
            "                            OLS Regression Results                            \n",
            "==============================================================================\n",
            "Dep. Variable:       Floor_6_load(kW)   R-squared:                       0.614\n",
            "Model:                            OLS   Adj. R-squared:                  0.613\n",
            "Method:                 Least Squares   F-statistic:                     361.7\n",
            "Date:                Sun, 17 Apr 2022   Prob (F-statistic):          6.43e-232\n",
            "Time:                        00:04:08   Log-Likelihood:                 445.69\n",
            "No. Observations:                1141   AIC:                            -879.4\n",
            "Df Residuals:                    1135   BIC:                            -849.1\n",
            "Df Model:                           5                                         \n",
            "Covariance Type:            nonrobust                                         \n",
            "=======================================================================================\n",
            "                          coef    std err          t      P>|t|      [0.025      0.975]\n",
            "---------------------------------------------------------------------------------------\n",
            "const                   0.4988      0.056      8.918      0.000       0.389       0.608\n",
            "Floor_6_T_(degC)       -1.0533      0.040    -26.029      0.000      -1.133      -0.974\n",
            "Floor_6_RH_(%)          0.2685      0.051      5.244      0.000       0.168       0.369\n",
            "Floor_6_ill_(lux)       0.1473      0.045      3.295      0.001       0.060       0.235\n",
            "Outdoor_temp(degC)     -0.0380      0.031     -1.216      0.224      -0.099       0.023\n",
            "Radiation(kJ/(hm2))     0.2222      0.024      9.142      0.000       0.175       0.270\n",
            "==============================================================================\n",
            "Omnibus:                      154.862   Durbin-Watson:                   2.068\n",
            "Prob(Omnibus):                  0.000   Jarque-Bera (JB):              233.035\n",
            "Skew:                           0.946   Prob(JB):                     2.50e-51\n",
            "Kurtosis:                       4.151   Cond. No.                         26.1\n",
            "==============================================================================\n",
            "\n",
            "Warnings:\n",
            "[1] Standard Errors assume that the covariance matrix of the errors is correctly specified.\n"
          ]
        },
        {
          "output_type": "stream",
          "name": "stderr",
          "text": [
            "/usr/local/lib/python3.7/dist-packages/statsmodels/tsa/tsatools.py:117: FutureWarning: In a future version of pandas all arguments of concat except for the argument 'objs' will be keyword-only\n",
            "  x = pd.concat(x[::order], 1)\n"
          ]
        }
      ]
    },
    {
      "cell_type": "code",
      "source": [
        "results.pvalues.round(3).sort_values()"
      ],
      "metadata": {
        "colab": {
          "base_uri": "https://localhost:8080/"
        },
        "id": "OHII8C6ltDos",
        "outputId": "d9acfe5b-f3cd-4665-90c0-635f99bf9f91"
      },
      "id": "OHII8C6ltDos",
      "execution_count": null,
      "outputs": [
        {
          "output_type": "execute_result",
          "data": {
            "text/plain": [
              "const                  0.000\n",
              "Floor_6_T_(degC)       0.000\n",
              "Floor_6_RH_(%)         0.000\n",
              "Radiation(kJ/(hm2))    0.000\n",
              "Floor_6_ill_(lux)      0.001\n",
              "Outdoor_temp(degC)     0.224\n",
              "dtype: float64"
            ]
          },
          "metadata": {},
          "execution_count": 29
        }
      ]
    },
    {
      "cell_type": "code",
      "source": [
        "results.tvalues.round(3).abs().sort_values(ascending = False)"
      ],
      "metadata": {
        "colab": {
          "base_uri": "https://localhost:8080/"
        },
        "id": "f-VrRqeutFqg",
        "outputId": "6297bec2-b4a5-4fb7-98bc-582669f5190f"
      },
      "id": "f-VrRqeutFqg",
      "execution_count": null,
      "outputs": [
        {
          "output_type": "execute_result",
          "data": {
            "text/plain": [
              "Floor_6_T_(degC)       26.029\n",
              "Radiation(kJ/(hm2))     9.142\n",
              "const                   8.918\n",
              "Floor_6_RH_(%)          5.244\n",
              "Floor_6_ill_(lux)       3.295\n",
              "Outdoor_temp(degC)      1.216\n",
              "dtype: float64"
            ]
          },
          "metadata": {},
          "execution_count": 30
        }
      ]
    },
    {
      "cell_type": "code",
      "source": [
        "#feature selection: \n",
        "from sklearn.feature_selection import SequentialFeatureSelector"
      ],
      "metadata": {
        "id": "e0wzjHg_tOcj"
      },
      "id": "e0wzjHg_tOcj",
      "execution_count": null,
      "outputs": []
    },
    {
      "cell_type": "code",
      "source": [
        "sfs = SequentialFeatureSelector(estimator = regression, n_features_to_select=3)\n",
        "sfs.fit(X=X_train, y=y_train)"
      ],
      "metadata": {
        "colab": {
          "base_uri": "https://localhost:8080/"
        },
        "id": "R3-VMtPYtQls",
        "outputId": "448e6245-a040-49a2-9328-607571c006b8"
      },
      "id": "R3-VMtPYtQls",
      "execution_count": null,
      "outputs": [
        {
          "output_type": "execute_result",
          "data": {
            "text/plain": [
              "SequentialFeatureSelector(estimator=LinearRegression(), n_features_to_select=3)"
            ]
          },
          "metadata": {},
          "execution_count": 32
        }
      ]
    },
    {
      "cell_type": "code",
      "source": [
        "X_train.columns[sfs.get_support()]"
      ],
      "metadata": {
        "colab": {
          "base_uri": "https://localhost:8080/"
        },
        "id": "joYynDNHtT6L",
        "outputId": "8d656df3-279a-4130-f47e-3a3b8c063d67"
      },
      "id": "joYynDNHtT6L",
      "execution_count": null,
      "outputs": [
        {
          "output_type": "execute_result",
          "data": {
            "text/plain": [
              "Index(['Floor_6_T_(degC)', 'Floor_6_RH_(%)', 'Radiation(kJ/(hm2))'], dtype='object')"
            ]
          },
          "metadata": {},
          "execution_count": 33
        }
      ]
    },
    {
      "cell_type": "code",
      "source": [
        "model = sm.OLS(endog = y_train, exog=sm.add_constant(data = X_train.loc[:, sfs.get_support()]))\n",
        "results = model.fit()\n",
        "print(results.summary())"
      ],
      "metadata": {
        "colab": {
          "base_uri": "https://localhost:8080/"
        },
        "id": "XB2G2H-BtV1C",
        "outputId": "7fe26edc-8e7d-400b-b3ca-2a5c9b44884d"
      },
      "id": "XB2G2H-BtV1C",
      "execution_count": null,
      "outputs": [
        {
          "output_type": "stream",
          "name": "stdout",
          "text": [
            "                            OLS Regression Results                            \n",
            "==============================================================================\n",
            "Dep. Variable:       Floor_6_load(kW)   R-squared:                       0.610\n",
            "Model:                            OLS   Adj. R-squared:                  0.609\n",
            "Method:                 Least Squares   F-statistic:                     593.1\n",
            "Date:                Sun, 17 Apr 2022   Prob (F-statistic):          5.78e-232\n",
            "Time:                        00:04:09   Log-Likelihood:                 439.36\n",
            "No. Observations:                1141   AIC:                            -870.7\n",
            "Df Residuals:                    1137   BIC:                            -850.6\n",
            "Df Model:                           3                                         \n",
            "Covariance Type:            nonrobust                                         \n",
            "=======================================================================================\n",
            "                          coef    std err          t      P>|t|      [0.025      0.975]\n",
            "---------------------------------------------------------------------------------------\n",
            "const                   0.6515      0.016     41.699      0.000       0.621       0.682\n",
            "Floor_6_T_(degC)       -1.1513      0.030    -38.789      0.000      -1.210      -1.093\n",
            "Floor_6_RH_(%)          0.1914      0.039      4.862      0.000       0.114       0.269\n",
            "Radiation(kJ/(hm2))     0.2122      0.022      9.491      0.000       0.168       0.256\n",
            "==============================================================================\n",
            "Omnibus:                      173.872   Durbin-Watson:                   2.052\n",
            "Prob(Omnibus):                  0.000   Jarque-Bera (JB):              282.339\n",
            "Skew:                           0.999   Prob(JB):                     4.91e-62\n",
            "Kurtosis:                       4.396   Cond. No.                         10.2\n",
            "==============================================================================\n",
            "\n",
            "Warnings:\n",
            "[1] Standard Errors assume that the covariance matrix of the errors is correctly specified.\n"
          ]
        },
        {
          "output_type": "stream",
          "name": "stderr",
          "text": [
            "/usr/local/lib/python3.7/dist-packages/statsmodels/tsa/tsatools.py:117: FutureWarning: In a future version of pandas all arguments of concat except for the argument 'objs' will be keyword-only\n",
            "  x = pd.concat(x[::order], 1)\n"
          ]
        }
      ]
    },
    {
      "cell_type": "code",
      "source": [
        "regression.fit(X = X_train.loc[:, sfs.get_support()], y=y_train)\n",
        "prediction1 = regression.predict(X=X_test.loc[:, sfs.get_support()])\n",
        "\n",
        "rmse1 = mean_squared_error(y_true = y_test, y_pred = prediction1, squared = False)\n",
        "print(\"RMSE:\", rmse1)\n",
        "mse1 = mean_squared_error(y_true = y_test, y_pred = prediction1)\n",
        "print(\"mse:\", mse1)\n",
        "#calculate MAE\n",
        "print('Mean Absolute Error:', mae(y_test, prediction1))"
      ],
      "metadata": {
        "colab": {
          "base_uri": "https://localhost:8080/"
        },
        "id": "NTIc2gggtWZR",
        "outputId": "7dc912c6-270c-4474-9451-9ed9736a4353"
      },
      "id": "NTIc2gggtWZR",
      "execution_count": null,
      "outputs": [
        {
          "output_type": "stream",
          "name": "stdout",
          "text": [
            "RMSE: 0.1614257236252928\n",
            "mse: 0.02605826424794942\n",
            "Mean Absolute Error: 0.12842805911544483\n"
          ]
        }
      ]
    },
    {
      "cell_type": "code",
      "source": [
        "print(\"\\np-values*************\\n\", results.pvalues.round(3).sort_values())\n",
        "print(\"\\nt-stat*************\\n\", results.tvalues.abs().round(3).sort_values(ascending = False))"
      ],
      "metadata": {
        "colab": {
          "base_uri": "https://localhost:8080/"
        },
        "id": "YU8FX8Eytezg",
        "outputId": "f5860216-bda5-4594-c5bf-b6a1c7b3882c"
      },
      "id": "YU8FX8Eytezg",
      "execution_count": null,
      "outputs": [
        {
          "output_type": "stream",
          "name": "stdout",
          "text": [
            "\n",
            "p-values*************\n",
            " const                  0.0\n",
            "Floor_6_T_(degC)       0.0\n",
            "Floor_6_RH_(%)         0.0\n",
            "Radiation(kJ/(hm2))    0.0\n",
            "dtype: float64\n",
            "\n",
            "t-stat*************\n",
            " const                  41.699\n",
            "Floor_6_T_(degC)       38.789\n",
            "Radiation(kJ/(hm2))     9.491\n",
            "Floor_6_RH_(%)          4.862\n",
            "dtype: float64\n"
          ]
        }
      ]
    }
  ],
  "metadata": {
    "kernelspec": {
      "display_name": "Python 3 (ipykernel)",
      "language": "python",
      "name": "python3"
    },
    "language_info": {
      "codemirror_mode": {
        "name": "ipython",
        "version": 3
      },
      "file_extension": ".py",
      "mimetype": "text/x-python",
      "name": "python",
      "nbconvert_exporter": "python",
      "pygments_lexer": "ipython3",
      "version": "3.9.7"
    },
    "colab": {
      "name": "Linear_floor.ipynb",
      "provenance": []
    }
  },
  "nbformat": 4,
  "nbformat_minor": 5
}